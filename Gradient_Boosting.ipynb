{
  "nbformat": 4,
  "nbformat_minor": 0,
  "metadata": {
    "colab": {
      "name": "Gradient Boosting.ipynb",
      "provenance": [],
      "include_colab_link": true
    },
    "kernelspec": {
      "name": "python3",
      "display_name": "Python 3"
    },
    "language_info": {
      "name": "python"
    }
  },
  "cells": [
    {
      "cell_type": "markdown",
      "metadata": {
        "id": "view-in-github",
        "colab_type": "text"
      },
      "source": [
        "<a href=\"https://colab.research.google.com/github/Schakkadath/Demo-repo/blob/main/Gradient_Boosting.ipynb\" target=\"_parent\"><img src=\"https://colab.research.google.com/assets/colab-badge.svg\" alt=\"Open In Colab\"/></a>"
      ]
    },
    {
      "cell_type": "code",
      "source": [
        "import pandas as pd\n",
        "import matplotlib.pyplot as plt\n",
        "%matplotlib inline\n",
        "import re\n",
        "import numpy as np\n",
        "import torch"
      ],
      "metadata": {
        "id": "RWSGoemIQJqR"
      },
      "execution_count": 11,
      "outputs": []
    },
    {
      "cell_type": "code",
      "source": [
        "device = torch.device('cuda' if torch.cuda.is_available() else 'cpu')\n",
        "device"
      ],
      "metadata": {
        "colab": {
          "base_uri": "https://localhost:8080/"
        },
        "id": "o4MR1lMMeXPC",
        "outputId": "ce461698-9e84-48da-f747-37f0a08cf476"
      },
      "execution_count": 12,
      "outputs": [
        {
          "output_type": "execute_result",
          "data": {
            "text/plain": [
              "device(type='cpu')"
            ]
          },
          "metadata": {},
          "execution_count": 12
        }
      ]
    },
    {
      "cell_type": "code",
      "source": [
        "from google.colab import drive\n",
        "drive.mount('/content/drive')"
      ],
      "metadata": {
        "colab": {
          "base_uri": "https://localhost:8080/"
        },
        "id": "CzbgS6Vteiv_",
        "outputId": "5119b561-b6b5-4d7d-827b-5496608c270d"
      },
      "execution_count": 13,
      "outputs": [
        {
          "output_type": "stream",
          "name": "stdout",
          "text": [
            "Drive already mounted at /content/drive; to attempt to forcibly remount, call drive.mount(\"/content/drive\", force_remount=True).\n"
          ]
        }
      ]
    },
    {
      "cell_type": "code",
      "source": [
        "!ls \"/content/drive/My Drive/Colab Notebooks/Usable AI\""
      ],
      "metadata": {
        "colab": {
          "base_uri": "https://localhost:8080/"
        },
        "id": "RvUHj82Kzh_U",
        "outputId": "3f20a64f-f584-4531-b407-9fbb0a5bd6b9"
      },
      "execution_count": 16,
      "outputs": [
        {
          "output_type": "stream",
          "name": "stdout",
          "text": [
            "'Gradient Boosting.ipynb'   sentiment140.csv\n"
          ]
        }
      ]
    },
    {
      "cell_type": "code",
      "source": [
        "data = pd.read_csv('/content/drive/My Drive/Colab Notebooks/Usable AI/sentiment140.csv',encoding='latin-1')"
      ],
      "metadata": {
        "id": "73kNe-n6eCeK"
      },
      "execution_count": 18,
      "outputs": []
    },
    {
      "cell_type": "code",
      "execution_count": 19,
      "metadata": {
        "id": "UFZSoInwMKTl"
      },
      "outputs": [],
      "source": [
        "headerList = ['target','TweetId', 'Timestamp', 'Flag', 'UserName','Tweet']\n",
        "data.to_csv('sentiment140_2.csv', header = headerList)\n",
        "data = pd.read_csv(\"sentiment140_2.csv\")"
      ]
    },
    {
      "cell_type": "code",
      "source": [
        "X = data['Tweet']\n",
        "y = data['target']"
      ],
      "metadata": {
        "id": "AqADj1-p0Y1R"
      },
      "execution_count": 20,
      "outputs": []
    },
    {
      "cell_type": "code",
      "source": [
        "from sklearn.model_selection import train_test_split\n",
        "from sklearn.feature_extraction.text import CountVectorizer\n",
        "from sklearn.linear_model import LogisticRegression\n",
        "from sklearn.metrics import confusion_matrix\n"
      ],
      "metadata": {
        "id": "wZZ2Bab00mPc"
      },
      "execution_count": 21,
      "outputs": []
    },
    {
      "cell_type": "code",
      "source": [
        "X_train, X_test, y_train, y_test = train_test_split(X, y, test_size = 0.5, random_state=24)\n",
        "cv = CountVectorizer()\n",
        "#Vectorizing the text data\n",
        "ctmTr = cv.fit_transform(X_train)\n",
        "X_test_dtm = cv.transform(X_test)\n",
        "#Training the model\n",
        "lr = LogisticRegression()\n",
        "lr.fit(ctmTr, y_train)\n",
        "#Accuracy score\n",
        "lr_score = lr.score(X_test_dtm, y_test)\n",
        "print(\"Results for Logistic Regression with CountVectorizer\")\n",
        "print(lr_score)\n",
        "#Predicting the labels for test data\n",
        "y_pred_lr = lr.predict(X_test_dtm)\n",
        "#Confusion matrix\n",
        "cm_lr = confusion_matrix(y_test, y_pred_lr)\n",
        "tn, fp, fn, tp = confusion_matrix(y_test, y_pred_lr).ravel()\n",
        "print(tn, fp, fn, tp)\n",
        "#True positive and true negative rates\n",
        "tpr_lr = round(tp/(tp + fn), 4)\n",
        "tnr_lr = round(tn/(tn+fp), 4)\n",
        "print(tpr_lr, tnr_lr)"
      ],
      "metadata": {
        "colab": {
          "base_uri": "https://localhost:8080/"
        },
        "id": "SCNrqOrH0qND",
        "outputId": "2c8fe292-9bf7-4466-b74b-05b48f6c9b51"
      },
      "execution_count": 22,
      "outputs": [
        {
          "output_type": "stream",
          "name": "stderr",
          "text": [
            "/usr/local/lib/python3.7/dist-packages/sklearn/linear_model/_logistic.py:818: ConvergenceWarning: lbfgs failed to converge (status=1):\n",
            "STOP: TOTAL NO. of ITERATIONS REACHED LIMIT.\n",
            "\n",
            "Increase the number of iterations (max_iter) or scale the data as shown in:\n",
            "    https://scikit-learn.org/stable/modules/preprocessing.html\n",
            "Please also refer to the documentation for alternative solver options:\n",
            "    https://scikit-learn.org/stable/modules/linear_model.html#logistic-regression\n",
            "  extra_warning_msg=_LOGISTIC_SOLVER_CONVERGENCE_MSG,\n"
          ]
        },
        {
          "output_type": "stream",
          "name": "stdout",
          "text": [
            "Results for Logistic Regression with CountVectorizer\n",
            "0.79520875\n",
            "310454 88858 74975 325713\n",
            "0.8129 0.7775\n"
          ]
        }
      ]
    },
    {
      "cell_type": "code",
      "source": [
        "from sklearn.model_selection import train_test_split\n",
        "X_train, X_test, y_train, y_test = train_test_split(X, y, test_size = 0.5, random_state=123)\n",
        "#Vectorizing the text data\n",
        "cv = CountVectorizer()\n",
        "ctmTr = cv.fit_transform(X_train)\n",
        "X_test_dtm = cv.transform(X_test)\n",
        "from sklearn import svm\n",
        "#Training the model\n",
        "svcl = svm.SVC()\n",
        "svcl.fit(ctmTr, y_train)\n",
        "svcl_score = svcl.score(X_test_dtm, y_test)\n",
        "print(\"Results for Support Vector Machine with CountVectorizer\")\n",
        "print(svcl_score)\n",
        "y_pred_sv = svcl.predict(X_test_dtm)\n",
        "#Confusion matrix\n",
        "cm_sv = confusion_matrix(y_test, y_pred_sv)\n",
        "tn, fp, fn, tp = confusion_matrix(y_test, y_pred_sv).ravel()\n",
        "print(tn, fp, fn, tp)\n",
        "tpr_sv = round(tp/(tp + fn), 4)\n",
        "tnr_sv = round(tn/(tn+fp), 4)\n",
        "print(tpr_sv, tnr_sv)"
      ],
      "metadata": {
        "id": "3zHIIOBb0sVc"
      },
      "execution_count": null,
      "outputs": []
    },
    {
      "cell_type": "code",
      "source": [
        ""
      ],
      "metadata": {
        "id": "f2lHjT_X2BZr"
      },
      "execution_count": null,
      "outputs": []
    }
  ]
}